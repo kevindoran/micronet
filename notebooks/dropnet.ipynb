{
 "cells": [
  {
   "cell_type": "markdown",
   "metadata": {},
   "source": [
    "Note: all experiments in this file have the major version 2. So an experiment\n",
    "listed as '1' will be found in the experiments folder under \n",
    "'experiments/2/1/<patch>'. The patch version is free to be used by each \n",
    "individual experiment."
   ]
  },
  {
   "cell_type": "code",
   "execution_count": 2,
   "metadata": {},
   "outputs": [],
   "source": [
    "%%capture\n",
    "import tensorflow as tf\n",
    "import pprint\n",
    "import matplotlib.pyplot as plt\n",
    "import numpy as np\n",
    "import efficientnet.efficientnet_builder as efnet_builder\n",
    "import efficientnet.efficientnet_model as efnet_model\n",
    "# import util\n",
    "\n",
    "# tf.logging.set_verbosity(tf.logging.WARN)\n",
    "tf.logging.set_verbosity(tf.logging.ERROR)\n",
    "# Set locale for printing (e.g. where to place integer separator ','s).\n",
    "import locale\n",
    "locale.setlocale(locale.LC_ALL, '')  # Use '' for auto, or force e.g. to 'en_US.UTF-8'"
   ]
  },
  {
   "cell_type": "markdown",
   "metadata": {},
   "source": [
    "# Sequential execution, class filter and contribution ranked feature pruning\n",
    "The hypothesis is that the following three techniques can significantly reduce \n",
    "computation requirements of image classification neural networks:\n",
    "  1. Compute a subset of the global average pool input (subset of 7x7 layer \n",
    "     output for EfficientNet). Sequentially compute outputs until classification \n",
    "     confidence is achieved.\n",
    "  2. Determine the stochastic contributions of layer outputs to subsequent layer\n",
    "     activations. Ignore inputs that don't meet a certain threshold. \n",
    "  3. Use a small sized network operating on a scaled down input image to \n",
    "     calculate with high accuracy the top 10 classes. This is hoped to reduce\n",
    "     the need to compute features in the previous layers: compute only 50% of \n",
    "     2nd last layer outputs (feature layer), 75% of 3rd last layer, 87.5% of 4th\n",
    "     last layer. The actual reduction relationship is not known.\n",
    "     "
   ]
  },
  {
   "cell_type": "markdown",
   "metadata": {},
   "source": [
    "## 1. Sequential pooling\n",
    "If there is a reliable pattern of activation of layer 'block 15', the layer with\n",
    "7x7xfiters outputs connecting to the global pool, this pattern could be used to\n",
    "determine a subset of the 49 output 'pixels' \\[What are the 'pixels' of the \n",
    "inner layers called?\\] that can be computed with minimal effect on \n",
    "classification accuracy. \n",
    "\n",
    "More precisely, we could set a minimum required accuracy (in expectation) and\n",
    "compute only a subset of the 49 pixels if one of the following sets of\n",
    "functions can be well approximated. Each set needs to address "
   ]
  },
  {
   "cell_type": "markdown",
   "metadata": {},
   "source": [
    "### 1.1 Stopping condition\n",
    "We need a mapping from current activations to expected accuracy degradation. \n",
    "Pixels should continue to be calculated until the minimum expected accuracy is\n",
    "reached. The available state data we have is the 49x1280 neuron outputs and the \n",
    "1280 pooled outputs. Possible mappings could be:\n",
    "\n",
    "  1. g(num_pixels_evaluated | order) = accuracy_estimate\n",
    "  2. total_pool_output = f(state data). g(total_pool_output) = accuracy_estimate\n",
    "  3. f(pixels_evaluated) = contribution_estimate. g(contribution) = accuracy_estimate\n",
    "  \n",
    "An intermediate quantity that might be a good proxy for estimating accuracy is\n",
    "the cross-entropy between the normal classification ouput and the perturbed \n",
    "classification output.\n",
    "  \n",
    "For the above 3 mappings, we would need to measure and parameterize the \n",
    "following distributions:\n",
    "\n",
    "  1. (X, Y): (num pixels evaluated, accuracy | eval order)\n",
    "  2. (X, Y): (total pool output, accuracy)\n",
    "  3. (X, Z): (pixel, contribution), (Z, Y): (expected contribution sum, accuracy)\n",
    "  \n",
    "These distributions require the following information: \n",
    "\n",
    "  1. (correct classification?, num pixels evaluated)\n",
    "  2. (correct classifciation?, total pool output)\n",
    "  3. (correct classification?, percentage contribution)\n",
    "          [49] (pixel, contribution)\n",
    "  \n",
    "  "
   ]
  },
  {
   "cell_type": "markdown",
   "metadata": {},
   "source": [
    "### 1.2 Pixel evaluation order\n",
    "Which pixels should be calculated next so as to maximize accuracy. Naive orders\n",
    "could be sequential from top-left to bottom right, or a random order.\n",
    "\n",
    "\n",
    "### 1.3 Dependency on class activations\n",
    "With 1280 neurons connected densely to the pool layer, it is not feasible to \n",
    "calculate the 1280 class activations each time a pool value is updated. However,\n",
    "if #3 above is implemented, the smaller number of considered classes would allow\n",
    "the class activations to be computed multiple times without a significant effect \n",
    "on overall operation count. "
   ]
  },
  {
   "cell_type": "markdown",
   "metadata": {},
   "source": [
    "## 2 Masked pixels accuracy test. \n",
    "Test sequential pooling with accuracy estimate based on the number of pixels \n",
    "evaluated.\n",
    "\n",
    "Success criteria: \n",
    "\n",
    "    * discover that dropping random pixels has minimal effect on the accuracy \n",
    "      for small drop counts.\n",
    "    * extra: discover that some specific pixels have minimal effect on accuracy \n",
    "      (i.e. classification depends disproportionately on certain pixels)."
   ]
  },
  {
   "cell_type": "markdown",
   "metadata": {},
   "source": [
    "### 2.1 Experiment-1. Single masked pixel.\n",
    "Test the classification accuracy when a single pixel is set to zero. Do this \n",
    "for all pixels. The number of evaluations per mask test: 64 * 1024."
   ]
  },
  {
   "cell_type": "markdown",
   "metadata": {},
   "source": [
    "#### 2.1.1 Results \n",
    "(experiment id: 2.1.1)\n",
    "\n",
    "The results are stored in a Tensorboard event file. Extract the data as follows:"
   ]
  },
  {
   "cell_type": "code",
   "execution_count": 11,
   "metadata": {},
   "outputs": [],
   "source": [
    "# Extract statistics from tensorboard event file.\n",
    "import numpy as np\n",
    "import tensorflow as tf\n",
    "\n",
    "event_path = 'gs://micronet_bucket1/models/experiments/2/1/1/eval/events.out.tfevents.1566892828.kdoran1'\n",
    "\n",
    "mask_to_accuracy = [0]*49\n",
    "values = []\n",
    "for event in tf.train.summary_iterator(event_path):\n",
    "    summary = event.summary\n",
    "    if not summary.ListFields():\n",
    "        continue\n",
    "    container = event.summary.value\n",
    "    for val in container:\n",
    "        prefix = 'mask_accuracy_'\n",
    "        if val.tag.startswith('mask_accuracy'):\n",
    "            pixel_count = int(val.tag[len(prefix):])\n",
    "            # mask_to_accuracy[pixel_count] = val.simple_value\n",
    "            mask_to_accuracy[pixel_count] = val.simple_value"
   ]
  },
  {
   "cell_type": "code",
   "execution_count": 12,
   "metadata": {},
   "outputs": [
    {
     "data": {
      "image/png": "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\n",
      "text/plain": [
       "<Figure size 432x288 with 1 Axes>"
      ]
     },
     "metadata": {
      "needs_background": "light"
     },
     "output_type": "display_data"
    },
    {
     "name": "stdout",
     "output_type": "stream",
     "text": [
      "original accuracy: 0.75146484\n",
      "max masked accuracy: 0.7651367\n",
      "min masked accuracy: 0.76049805\n"
     ]
    }
   ],
   "source": [
    "# num evaluations: 64 * 1024\n",
    "# Hard-coded results in-case the event file gets lost. \n",
    "res = {'accuracy': 0.75146484, 'mask_accuracy_18': 0.7624512, 'mask_accuracy_40': 0.76342773, 'mask_accuracy_26': 0.7631836, 'mask_accuracy_35': 0.7651367, 'mask_accuracy_29': 0.7624512, 'mask_accuracy_43': 0.76416016, 'mask_accuracy_27': 0.7626953, 'mask_accuracy_10': 0.76220703, 'mask_accuracy_16': 0.7619629, 'mask_accuracy_11': 0.76123047, 'mask_accuracy_46': 0.7636719, 'mask_accuracy_48': 0.76342773,  'mask_accuracy_2': 0.7631836, 'mask_accuracy_31': 0.7619629, 'mask_accuracy_37': 0.7644043, 'mask_accuracy_36': 0.76464844, 'mask_accuracy_23': 0.76171875, 'mask_accuracy_47': 0.76293945, 'mask_accuracy_45': 0.7644043, 'mask_accuracy_34': 0.7626953, 'mask_accuracy_38': 0.76464844, 'mask_accuracy_0': 0.7626953, 'mask_accuracy_30': 0.76220703, 'mask_accuracy_20': 0.7626953, 'mask_accuracy_1': 0.7609863, 'mask_accuracy_22': 0.7624512, 'mask_accuracy_39': 0.7644043, 'mask_accuracy_24': 0.7624512, 'mask_accuracy_8': 0.7626953, 'mask_accuracy_6': 0.7607422, 'mask_accuracy_7': 0.76342773, 'mask_accuracy_13': 0.7624512, 'mask_accuracy_19': 0.76171875, 'mask_accuracy_25': 0.76293945, 'mask_accuracy_9': 0.7619629, 'mask_accuracy_14': 0.7631836, 'mask_accuracy_28': 0.76293945, 'mask_accuracy_44': 0.76464844, 'mask_accuracy_17': 0.7619629, 'mask_accuracy_33': 0.7631836, 'mask_accuracy_15': 0.76293945, 'mask_accuracy_5': 0.76049805, 'mask_accuracy_42': 0.76464844, 'mask_accuracy_32': 0.7636719, 'mask_accuracy_3': 0.7624512, 'mask_accuracy_4': 0.76123047, 'mask_accuracy_21': 0.76171875, 'mask_accuracy_41': 0.763916, 'mask_accuracy_12': 0.76171875}\n",
    "masked_accuracies = tuple(res['mask_accuracy_' + str(a)] for a in range(49))\n",
    "plt.bar(range(49), masked_accuracies)\n",
    "plt.title('Classification accuracy when a pixel of the feature layer '\n",
    "          '(7x7x320) is set to zero (64*1024 evaluations)')\n",
    "plt.xlabel('Zero-ed pixel (pixel coord = (x-axis-val % 7, floor(x-axis-val / 7))')\n",
    "plt.ylabel('Classification accuracy (%/100)')\n",
    "plt.show()\n",
    "print(f'original accuracy: {res[\"accuracy\"]}')\n",
    "print(f'max masked accuracy: {max(masked_accuracies)}')\n",
    "print(f'min masked accuracy: {min(masked_accuracies)}')"
   ]
  },
  {
   "cell_type": "markdown",
   "metadata": {},
   "source": [
    "#### 2.1.2 Conclusion\n",
    "Zero-ing a single pixel in the 7x7 grid of features consistently produces higher \n",
    "accuracy.\n",
    "\n",
    "This is a strange result, one that raises the question: was the\n",
    "experiment flawed?\n",
    "\n",
    "If the results are reliable, then it shows that there is no single pixel that is\n",
    "vital."
   ]
  },
  {
   "cell_type": "markdown",
   "metadata": {},
   "source": [
    "### 2.2 Experiment-2. 25, 40, 48, & 49 masked pixels.\n",
    "Run with 10 * 64 * 1024 samples with different number of randomly placed masks.\n",
    "Each experiment fixes a certain number of pixels to be set to zero. The pixels\n",
    "are placed randomly for _each_ classification example. This experiment tests\n",
    "the following number of pixel masks (with gloud storage experiment ids in \n",
    "brackets):\n",
    "\n",
    "  * 25 (2.2.1)\n",
    "  * 40 (2.2.2)\n",
    "  * 48 (2.2.3)\n",
    "  * 49 (2.2.4)\n",
    "\n",
    "#### 2.2.1 Results\n",
    "The accuracies for each of the mask counts are:\n",
    "\n",
    "  * 25: 0.754\n",
    "  * 40: 0.690\n",
    "  * 48: 0.890\n",
    "  * 49: 0.00104\n",
    "  \n",
    "The control (49 masks) reduces to 0.1% (1/1000), which is reasonable. This is \n",
    "some evidence that the experiment setup is not flawed. "
   ]
  },
  {
   "cell_type": "markdown",
   "metadata": {},
   "source": [
    "### 2.3 Experiment-3. All mask counts\n",
    "Extending experiment 2.2 to check all mask counts (0-48).\n",
    "Git hash: f2534c7e4c71.\n",
    "Experiment id: 2.3\n",
    "Each of the 50 evaluations [0, 49] have their own patch experiment version.\n",
    "Each evaluation ran for `20 * 64 * 2**10 = 1,310,720` samples.\n",
    "\n",
    "#### 2.3.1 Results"
   ]
  },
  {
   "cell_type": "code",
   "execution_count": 23,
   "metadata": {},
   "outputs": [],
   "source": [
    "# Hard-coded results. Also obtainable from Tensorboard event files.\n",
    "res = {\n",
    "    0:  {'accuracy': 0.7722748,  'loss': 6.373776,  'global_step': 0}, \n",
    "    1:  {'accuracy': 0.7713448,  'loss': 6.3870153, 'global_step': 0}, \n",
    "    2:  {'accuracy': 0.77148056, 'loss': 6.400982,  'global_step': 0}, \n",
    "    3:  {'accuracy': 0.7708542,  'loss': 6.4113493, 'global_step': 0}, \n",
    "    4:  {'accuracy': 0.7701584,  'loss': 6.4265227, 'global_step': 0}, \n",
    "    5:  {'accuracy': 0.77015686, 'loss': 6.4401665, 'global_step': 0}, \n",
    "    6:  {'accuracy': 0.7696327,  'loss': 6.459356,  'global_step': 0}, \n",
    "    7:  {'accuracy': 0.7693329,  'loss': 6.477136,  'global_step': 0}, \n",
    "    8:  {'accuracy': 0.76907957, 'loss': 6.4935455, 'global_step': 0}, \n",
    "    9:  {'accuracy': 0.76794434, 'loss': 6.5143137, 'global_step': 0}, \n",
    "    10: {'accuracy': 0.7672447,  'loss': 6.5355697, 'global_step': 0}, \n",
    "    11: {'accuracy': 0.7668396,  'loss': 6.5554,    'global_step': 0}, \n",
    "    12: {'accuracy': 0.76668775, 'loss': 6.577124,  'global_step': 0}, \n",
    "    13: {'accuracy': 0.7658783,  'loss': 6.598773,  'global_step': 0}, \n",
    "    14: {'accuracy': 0.7654678,  'loss': 6.620036,  'global_step': 0}, \n",
    "    15: {'accuracy': 0.7645996,  'loss': 6.645002,  'global_step': 0}, \n",
    "    16: {'accuracy': 0.76330644, 'loss': 6.663367,  'global_step': 0}, \n",
    "    17: {'accuracy': 0.7627632,  'loss': 6.685964,  'global_step': 0}, \n",
    "    18: {'accuracy': 0.762088,   'loss': 6.706272,  'global_step': 0}, \n",
    "    19: {'accuracy': 0.7613937,  'loss': 6.726879,  'global_step': 0}, \n",
    "    20: {'accuracy': 0.76027524, 'loss': 6.74701,   'global_step': 0}, \n",
    "    21: {'accuracy': 0.7586586,  'loss': 6.7663393, 'global_step': 0}, \n",
    "    22: {'accuracy': 0.75752103, 'loss': 6.7821207, 'global_step': 0}, \n",
    "    23: {'accuracy': 0.756488,   'loss': 6.797246,  'global_step': 0}, \n",
    "    24: {'accuracy': 0.75536805, 'loss': 6.811171,  'global_step': 0}, \n",
    "    25: {'accuracy': 0.7540207,  'loss': 6.8246336, 'global_step': 0}, \n",
    "    26: {'accuracy': 0.7521011,  'loss': 6.8362885, 'global_step': 0}, \n",
    "    27: {'accuracy': 0.75086594, 'loss': 6.847026,  'global_step': 0}, \n",
    "    28: {'accuracy': 0.7484924,  'loss': 6.856795,  'global_step': 0}, \n",
    "    29: {'accuracy': 0.74651796, 'loss': 6.864248,  'global_step': 0}, \n",
    "    30: {'accuracy': 0.74389344, 'loss': 6.8712287, 'global_step': 0}, \n",
    "    31: {'accuracy': 0.74184114, 'loss': 6.877139,  'global_step': 0}, \n",
    "    32: {'accuracy': 0.738356,   'loss': 6.882619,  'global_step': 0}, \n",
    "    33: {'accuracy': 0.73541105, 'loss': 6.886907,  'global_step': 0}, \n",
    "    34: {'accuracy': 0.73149186, 'loss': 6.890538,  'global_step': 0}, \n",
    "    35: {'accuracy': 0.7276436,  'loss': 6.893767,  'global_step': 0}, \n",
    "    36: {'accuracy': 0.7230133,  'loss': 6.896392,  'global_step': 0}, \n",
    "    37: {'accuracy': 0.7161499,  'loss': 6.89845,   'global_step': 0}, \n",
    "    38: {'accuracy': 0.70957106, 'loss': 6.900379,  'global_step': 0}, \n",
    "    39: {'accuracy': 0.70189893, 'loss': 6.901845,  'global_step': 0}, \n",
    "    40: {'accuracy': 0.69045943, 'loss': 6.903028,  'global_step': 0}, \n",
    "    41: {'accuracy': 0.6781967,  'loss': 6.9041443, 'global_step': 0}, \n",
    "    42: {'accuracy': 0.6611885,  'loss': 6.9049516, 'global_step': 0}, \n",
    "    43: {'accuracy': 0.63974303, 'loss': 6.9056497, 'global_step': 0}, \n",
    "    44: {'accuracy': 0.60791856, 'loss': 6.906184,  'global_step': 0}, \n",
    "    45: {'accuracy': 0.56284255, 'loss': 6.906636,  'global_step': 0}, \n",
    "    46: {'accuracy': 0.4922096,  'loss': 6.907028,  'global_step': 0}, \n",
    "    47: {'accuracy': 0.3753357,  'loss': 6.9072733, 'global_step': 0}, \n",
    "    48: {'accuracy': 0.18807144, 'loss': 6.9075866, 'global_step': 0},\n",
    "    49: {'accuracy': 0.00101471, 'loss': 6.907757,  'global_step': 0}}\n",
    "\n",
    "mask_count_to_accuracy = [0] * 50 \n",
    "for i in range(len(mask_count_to_accuracy)):\n",
    "    mask_count_to_accuracy[i] = res[i]['accuracy']"
   ]
  },
  {
   "cell_type": "code",
   "execution_count": 24,
   "metadata": {},
   "outputs": [
    {
     "data": {
      "text/plain": [
       "Text(0, 0.5, 'Classification accuracy (%/100)')"
      ]
     },
     "execution_count": 24,
     "metadata": {},
     "output_type": "execute_result"
    },
    {
     "data": {
      "image/png": "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\n",
      "text/plain": [
       "<Figure size 432x288 with 1 Axes>"
      ]
     },
     "metadata": {
      "needs_background": "light"
     },
     "output_type": "display_data"
    }
   ],
   "source": [
    "x_axis = np.arange(len(mask_count_to_accuracy))\n",
    "plt.bar(x_axis, mask_count_to_accuracy)\n",
    "plt.title('Accuracies for random mask counts 0-49 (run on 1.2 million ImageNet training samples each)')\n",
    "plt.xlabel('No. of randomly masked pixels')\n",
    "plt.ylabel('Classification accuracy (%/100)')"
   ]
  },
  {
   "cell_type": "markdown",
   "metadata": {},
   "source": [
    "#### 2.3.2 Conclusion\n",
    "This is rather amazing. There is 19% accuracy when using only a single pixel!\n",
    "\n",
    "Calculating a single pixel could be used to rule out some classes!"
   ]
  },
   ]
  },
  {
   "cell_type": "code",
   "execution_count": null,
   "metadata": {},
   "outputs": [],
   "source": []
  }
 ],
 "metadata": {
  "kernelspec": {
   "display_name": "Python 3",
   "language": "python",
   "name": "python3"
  },
  "language_info": {
   "codemirror_mode": {
    "name": "ipython",
    "version": 3
   },
   "file_extension": ".py",
   "mimetype": "text/x-python",
   "name": "python",
   "nbconvert_exporter": "python",
   "pygments_lexer": "ipython3",
   "version": "3.7.4"
  }
 },
 "nbformat": 4,
 "nbformat_minor": 4
}
