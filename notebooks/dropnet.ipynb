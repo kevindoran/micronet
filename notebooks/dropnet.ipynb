{
 "cells": [
  {
   "cell_type": "code",
   "execution_count": 4,
   "metadata": {},
   "outputs": [],
   "source": [
    "%%capture\n",
    "import tensorflow as tf\n",
    "import pprint\n",
    "import matplotlib.pyplot as plt\n",
    "import numpy as np\n",
    "import efficientnet.efficientnet_builder as efnet_builder\n",
    "import efficientnet.efficientnet_model as efnet_model\n",
    "# import util\n",
    "\n",
    "# tf.logging.set_verbosity(tf.logging.WARN)\n",
    "tf.logging.set_verbosity(tf.logging.ERROR)\n",
    "# Set locale for printing (e.g. where to place integer separator ','s).\n",
    "import locale\n",
    "locale.setlocale(locale.LC_ALL, '')  # Use '' for auto, or force e.g. to 'en_US.UTF-8'"
   ]
  },
  {
   "cell_type": "markdown",
   "metadata": {},
   "source": [
    "# Sequential layers, class filter and contribution ranked feature pruning\n",
    "The hypothesis is that the following three techniques can significantly reduce \n",
    "computation requirements of image classification neural networks:\n",
    "  1. Compute a subset of the global average pool input (subset of 7x7 layer \n",
    "     output for EfficientNet). Sequentially compute outputs until classification \n",
    "     confidence is achieved.\n",
    "  2. Determine the stochastic contributions of layer outputs to subsequent layer\n",
    "     activations. Ignore inputs that don't meet a certain threshold. \n",
    "  3. Use a small sized network operating on a scaled down input image to \n",
    "     calculate with high accuracy the top 10 classes. This is hoped to reduce\n",
    "     the need to compute features in the previous layers: compute only 50% of \n",
    "     2nd last layer outputs (feature layer), 75% of 3rd last layer, 87.5% of 4th\n",
    "     last layer. The actual reduction relationship is not known.\n",
    "     "
   ]
  },
  {
   "cell_type": "markdown",
   "metadata": {},
   "source": [
    "## 1. Sequential pooling\n",
    "If there is a reliable pattern of activation of layer 'block 15', the layer with\n",
    "7x7xfiters outputs connecting to the global pool, this pattern could be used to\n",
    "determine a subset of the 49 output 'pixels' \\[What are the 'pixels' of the \n",
    "inner layers called?\\] that can be computed with minimal effect on \n",
    "classification accuracy. \n",
    "\n",
    "More precisely, we could set a minimum required accuracy (in expectation) and\n",
    "compute only a subset of the 49 pixels if one of the following sets of\n",
    "functions can be well approximated. Each set needs to address "
   ]
  },
  {
   "cell_type": "markdown",
   "metadata": {},
   "source": [
    "### Stopping condition\n",
    "We need a mapping from current activations to expected accuracy degradation. \n",
    "Pixels should continue to be calculated until the minimum expected accuracy is\n",
    "reached. The available state data we have is the 49x1280 neuron outputs and the \n",
    "1280 pooled outputs. Possible mappings could be:\n",
    "\n",
    "  1. g(num_pixels_evaluated | order) = accuracy_estimate\n",
    "  2. total_pool_output = f(state data). g(total_pool_output) = accuracy_estimate\n",
    "  3. f(pixels_evaluated) = contribution_estimate. g(contribution) = accuracy_estimate\n",
    "  \n",
    "An intermediate quantity that might be a good proxy for estimating accuracy is\n",
    "the cross-entropy between the normal classification ouput and the perturbed \n",
    "classification output.\n",
    "  \n",
    "For the above 3 mappings, we would need to measure and parameterize the \n",
    "following distributions:\n",
    "\n",
    "  1. (X, Y): (num pixels evaluated, accuracy | eval order)\n",
    "  2. (X, Y): (total pool output, accuracy)\n",
    "  3. (X, Z): (pixel, contribution), (Z, Y): (expected contribution sum, accuracy)\n",
    "  \n",
    "These distributions require the following information: \n",
    "\n",
    "  1. (correct classification?, num pixels evaluated)\n",
    "  2. (correct classifciation?, total pool output)\n",
    "  3. (correct classification?, percentage contribution)\n",
    "          [49] (pixel, contribution)\n",
    "  \n",
    "  "
   ]
  },
  {
   "cell_type": "markdown",
   "metadata": {},
   "source": [
    "### Pixel evaluation order\n",
    "Which pixels should be calculated next so as to maximize accuracy. Naive orders\n",
    "could be sequential from top-left to bottom right, or a random order.\n",
    "\n",
    "\n",
    "### Dependency on class activations\n",
    "With 1280 neurons connected densely to the pool layer, it is not feasible to \n",
    "calculate the 1280 class activations each time a pool value is updated. However,\n",
    "if #3 above is implemented, the smaller number of considered classes would allow\n",
    "the class activations to be computed multiple times without a significant effect \n",
    "on overall operation count. \n",
    "\n",
    "\n",
    "## Experiment 1: test sequential pooling with accuracy estimate based on the number of pixels evaluated\n",
    "Success criteria: \n",
    "    * discover that dropping random pixels has minimal effect on the accuracy \n",
    "      for small drop counts.\n",
    "    * extra: discover that some specific pixels have minimal effect on accuracy \n",
    "      (i.e. classification depends disproportionately on certain pixels).\n",
    "      \n",
    "      \n",
    "Data collection\n",
    "Run large number of evaluations (100,000). For every evaluation, run 49 extra\n",
    "evaluations with 1 dropped pixel. \n",
    "results = [] \n",
    "for i in range 100,000:\n",
    "    logits = run_eval()\n",
    "    l = logit_for_correct(logits, ans)\n",
    "    for j in range 49:\n",
    "        for k in (0,1)\n",
    "        mask = ave_mask if k else zero_mask\n",
    "        mask_pixel(j, mask)\n",
    "        logits = run_eval()\n",
    "        results.append(j, mask, l, logit_for_correct(logits, ans), correct)\n",
    "      \n",
    "    "
   ]
  },
  {
   "cell_type": "markdown",
   "metadata": {},
   "source": [
    "### Results (experiment id: 2.1.1)"
   ]
  },
  {
   "cell_type": "code",
   "execution_count": 11,
   "metadata": {},
   "outputs": [
    {
     "data": {
      "image/png": "[encoded data removed]",
      "text/plain": [
       "<Figure size 432x288 with 1 Axes>"
      ]
     },
     "metadata": {
      "needs_background": "light"
     },
     "output_type": "display_data"
    },
    {
     "name": "stdout",
     "output_type": "stream",
     "text": [
      "original accuracy: 0.75146484\n",
      "max masked accuracy: 0.7651367\n",
      "min masked accuracy: 0.76049805\n"
     ]
    }
   ],
   "source": [
    "res = {'accuracy': 0.75146484, 'mask_accuracy_18': 0.7624512, 'mask_accuracy_40': 0.76342773, 'mask_accuracy_26': 0.7631836, 'mask_accuracy_35': 0.7651367, 'mask_accuracy_29': 0.7624512, 'mask_accuracy_43': 0.76416016, 'mask_accuracy_27': 0.7626953, 'mask_accuracy_10': 0.76220703, 'mask_accuracy_16': 0.7619629, 'mask_accuracy_11': 0.76123047, 'mask_accuracy_46': 0.7636719, 'mask_accuracy_48': 0.76342773,  'mask_accuracy_2': 0.7631836, 'mask_accuracy_31': 0.7619629, 'mask_accuracy_37': 0.7644043, 'mask_accuracy_36': 0.76464844, 'mask_accuracy_23': 0.76171875, 'mask_accuracy_47': 0.76293945, 'mask_accuracy_45': 0.7644043, 'mask_accuracy_34': 0.7626953, 'mask_accuracy_38': 0.76464844, 'mask_accuracy_0': 0.7626953, 'mask_accuracy_30': 0.76220703, 'mask_accuracy_20': 0.7626953, 'mask_accuracy_1': 0.7609863, 'mask_accuracy_22': 0.7624512, 'mask_accuracy_39': 0.7644043, 'mask_accuracy_24': 0.7624512, 'mask_accuracy_8': 0.7626953, 'mask_accuracy_6': 0.7607422, 'mask_accuracy_7': 0.76342773, 'mask_accuracy_13': 0.7624512, 'mask_accuracy_19': 0.76171875, 'mask_accuracy_25': 0.76293945, 'mask_accuracy_9': 0.7619629, 'mask_accuracy_14': 0.7631836, 'mask_accuracy_28': 0.76293945, 'mask_accuracy_44': 0.76464844, 'mask_accuracy_17': 0.7619629, 'mask_accuracy_33': 0.7631836, 'mask_accuracy_15': 0.76293945, 'mask_accuracy_5': 0.76049805, 'mask_accuracy_42': 0.76464844, 'mask_accuracy_32': 0.7636719, 'mask_accuracy_3': 0.7624512, 'mask_accuracy_4': 0.76123047, 'mask_accuracy_21': 0.76171875, 'mask_accuracy_41': 0.763916, 'mask_accuracy_12': 0.76171875}\n",
    "masked_accuracies = tuple(res['mask_accuracy_' + str(a)] for a in range(49))\n",
    "plt.bar(range(49), masked_accuracies)\n",
    "plt.show()\n",
    "print(f'original accuracy: {res[\"accuracy\"]}')\n",
    "print(f'max masked accuracy: {max(masked_accuracies)}')\n",
    "print(f'min masked accuracy: {min(masked_accuracies)}')"
   ]
  },
  {
   "cell_type": "markdown",
   "metadata": {},
   "source": [
    "### Conclusion\n",
    "Zero-ing a single pixel in the 7x7 grid of features consistently produces higher accuracy.\n",
    "\n",
    "This is a strange result, one that raises the question: was the\n",
    "experiment flawed?"
   ]
  },
  {
   "cell_type": "markdown",
   "metadata": {},
   "source": [
    "# Notes\n",
    "Maybe PCA is a way to get some measures that don't ignore the dependencies \n",
    "between different neuron outputs. "
   ]
  },
  {
   "cell_type": "code",
   "execution_count": null,
   "metadata": {},
   "outputs": [],
   "source": []
  }
 ],
 "metadata": {
  "kernelspec": {
   "display_name": "Python 3",
   "language": "python",
   "name": "python3"
  },
  "language_info": {
   "codemirror_mode": {
    "name": "ipython",
    "version": 3
   },
   "file_extension": ".py",
   "mimetype": "text/x-python",
   "name": "python",
   "nbconvert_exporter": "python",
   "pygments_lexer": "ipython3",
   "version": "3.7.4"
  }
 },
 "nbformat": 4,
 "nbformat_minor": 4
}
