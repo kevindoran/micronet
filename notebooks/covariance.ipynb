{
 "cells": [
  {
   "cell_type": "code",
   "execution_count": null,
   "metadata": {},
   "outputs": [],
   "source": [
    "%%capture\n",
    "import tensorflow as tf\n",
    "import pprint\n",
    "import matplotlib.pyplot as plt\n",
    "import numpy as np\n",
    "import efficientnet.efficientnet_builder as efnet_builder\n",
    "import efficientnet.efficientnet_model as efnet_model\n",
    "import util\n",
    "\n",
    "# tf.logging.set_verbosity(tf.logging.WARN)\n",
    "tf.logging.set_verbosity(tf.logging.ERROR)\n",
    "# Set locale for printing (e.g. where to place integer separator ','s).\n",
    "import locale\n",
    "locale.setlocale(locale.LC_ALL, '')  # Use '' for auto, or force e.g. to 'en_US.UTF-8'"
   ]
  },
  {
   "cell_type": "markdown",
   "metadata": {},
   "source": [
    "# Co-variance investigation\n",
    "Goal is to find potential layers to short-circuit.\n",
    "\n"
   ]
  },
  {
   "cell_type": "markdown",
   "metadata": {},
   "source": [
    "### How many outputs are there in efficientnet-b0?\n"
   ]
  },
  {
   "cell_type": "code",
   "execution_count": null,
   "metadata": {},
   "outputs": [],
   "source": [
    "model, _ = util.create_efficientnetb0()\n",
    "# Unfortunately, models that are subclasses of keras.Model can't use the methods\n",
    "# model.inputs or model.outputs. Thus, we need to try get them via tf variable\n",
    "# names or the stored data within the efficientnet model itself.\n",
    "# outputs = [layer.output for layer in model.layers]\n",
    "conv_head = model._conv_head\n",
    "features = model.endpoints['features'] # 7x7"
   ]
  },
  {
   "cell_type": "code",
   "execution_count": null,
   "metadata": {},
   "outputs": [],
   "source": []
  }
 ],
 "metadata": {
  "kernelspec": {
   "display_name": "Python 3",
   "language": "python",
   "name": "python3"
  },
  "language_info": {
   "codemirror_mode": {
    "name": "ipython",
    "version": 3
   },
   "file_extension": ".py",
   "mimetype": "text/x-python",
   "name": "python",
   "nbconvert_exporter": "python",
   "pygments_lexer": "ipython3",
   "version": "3.7.4"
  }
 },
 "nbformat": 4,
 "nbformat_minor": 4
}
