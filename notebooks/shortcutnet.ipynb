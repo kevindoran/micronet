{
 "cells": [
  {
   "cell_type": "markdown",
   "metadata": {},
   "source": [
    "Jupyter keyboard shortcuts:\n",
    "https://blog.ja-ke.tech/2019/01/20/jupyterlab-shortcuts.html"
   ]
  },
  {
   "cell_type": "code",
   "execution_count": 17,
   "metadata": {},
   "outputs": [],
   "source": [
    "import tensorflow as tf\n",
    "import pprint\n",
    "import matplotlib.pyplot as plt\n",
    "import numpy as np\n",
    "import efficientnet.efficientnet_builder as net_builder"
   ]
  },
  {
   "cell_type": "code",
   "execution_count": 27,
   "metadata": {},
   "outputs": [],
   "source": [
    "%%capture\n",
    "tf.logging.set_verbosity(tf.logging.WARN)\n",
    "# Set locale for printing (e.g. where to place integer separator ','s).\n",
    "import locale\n",
    "locale.setlocale(locale.LC_ALL, '')  # Use '' for auto, or force e.g. to 'en_US.UTF-8'"
   ]
  },
  {
   "cell_type": "markdown",
   "metadata": {},
   "source": [
    "# Shortcutnet Experiment\n",
    "Create a network that tries to short-circuit layers in order to reduce \n",
    "computation.\n",
    "\n",
    "## Hypothesis\n",
    "Can we by, using only earlier layers:\n",
    "  * detect image classes very low false-positive rates, or\n",
    "  * detect image class exclusion with very low false-positive rates\n",
    "\n",
    "\n",
    "Let's imagine that we can do this. When would it be helpful?\n",
    "For the first case, if we can detect a class with high certainty early in\n",
    "the network, we can then skip subsequent layers. Let's say we choose the\n",
    "6th layer of EfficientNet as the shortcut layer. Then we would save computing \n",
    "12  following layers, saving over 95% of computation (edit, 95% of parameters \n",
    "are in subsequent layers, however, I'm not sure how this relates to ops).\n",
    " \n",
    "For the second case, if we rule out a class with high certainty early in the \n",
    "network, we can mark later neurons in the network as being unnecessary. If \n",
    "we can mark enough neurons, and if we construct a dependency graph for neurons \n",
    "(what neurons are required to calculate later neurons), then maybe we can skip \n",
    "whole feature layers from being computed."
   ]
  },
  {
   "cell_type": "markdown",
   "metadata": {},
   "source": [
    "## Possible benefit\n",
    "Count the parameters in EfficientNet layers."
   ]
  },
  {
   "cell_type": "code",
   "execution_count": 13,
   "metadata": {},
   "outputs": [],
   "source": [
    "def create_efficientnetb0():\n",
    "    image_inputs = tf.keras.layers.Input(shape=(224, 224, 3))\n",
    "    features, endpoints = net_builder.build_model_base(\n",
    "        image_inputs, model_name='efficientnet-b0', training=True)\n",
    "    return features, endpoints"
   ]
  },
  {
   "cell_type": "code",
   "execution_count": 38,
   "metadata": {},
   "outputs": [],
   "source": [
    "def count_elements(tensors):\n",
    "    \"\"\"Count individual elements of the given tensors.\"\"\"\n",
    "    total = 0\n",
    "    for t in tensors:\n",
    "        count = 1\n",
    "        for dim in t.get_shape():\n",
    "            count *= dim.value\n",
    "        total += count\n",
    "    return total"
   ]
  },
  {
   "cell_type": "code",
   "execution_count": 48,
   "metadata": {},
   "outputs": [],
   "source": [
    "efficientnet_num_layers = 16\n",
    "def block_counts():\n",
    "    bc = list()\n",
    "    for i in range(efficientnet_num_layers):\n",
    "        bc.append(count_elements(tf.trainable_variables(\n",
    "            scope='efficientnet-b0/blocks_{}/'.format(i))))\n",
    "    return bc"
   ]
  },
  {
   "cell_type": "markdown",
   "metadata": {},
   "source": [
    "### Parameter totals\n",
    "Tensorflow trainable parameter counts sum to ~3.5 million. This is much less\n",
    "than the 5.3 million reported by the EfficientNet paper. I'm not sure why there\n",
    "is a discrepancy. I assume my counting method is incorrect."
   ]
  },
  {
   "cell_type": "code",
   "execution_count": 55,
   "metadata": {},
   "outputs": [
    {
     "name": "stdout",
     "output_type": "stream",
     "text": [
      "Trainables in 'efficientnet-b0' scope:\n",
      "\t3,595,388\n",
      "Trainables in root scope:\n",
      "\t3,595,388\n",
      "All variables in 'efficientnet-b0' scope:\n",
      "\t3,634,844\n",
      "All variables in 'efficientnet-b0' scope:\n",
      "\t3,634,844\n",
      "[1448, 6004, 10710, 15350, 31290, 37130, 102900, 102900, 126004, 208572, 208572, 262492, 587952, 587952, 587952, 717232]\n"
     ]
    }
   ],
   "source": [
    "temp_graph = tf.Graph()\n",
    "with temp_graph.as_default():\n",
    "    create_efficientnetb0()\n",
    "    print(\"Trainables in 'efficientnet-b0' scope:\\n\\t{:n}\".format(\n",
    "        count_elements(tf.trainable_variables(scope='efficientnet-b0'))))\n",
    "    print(\"Trainables in root scope:\\n\\t{:n}\".format(\n",
    "        count_elements(tf.trainable_variables(scope=None))))\n",
    "    print(\"All variables in 'efficientnet-b0' scope:\\n\\t{:n}\".format(\n",
    "        count_elements(tf.get_collection(tf.GraphKeys.GLOBAL_VARIABLES, \n",
    "                                         scope='efficientnet-b0'))))\n",
    "    print(\"All variables in 'efficientnet-b0' scope:\\n\\t{:n}\".format(\n",
    "        count_elements(tf.get_collection(tf.GraphKeys.GLOBAL_VARIABLES, \n",
    "                                         scope=None))))\n",
    "    \n",
    "    # Let's confirm that all parameters are covered by the 'efficientnet-b0' \n",
    "    # scope.\n",
    "    not_in_efficientnet_scope = set(\n",
    "        (v.name for v in tf.trainable_variables(scope='efficientnet-b0') \n",
    "                         if not v.name.startswith('efficientnet-b0')))\n",
    "    assert len(not_in_efficientnet_scope) == 0"
   ]
  },
  {
   "cell_type": "markdown",
   "metadata": {},
   "source": [
    "### Per layer counts\n",
    "Most trainable parameters exist in the later layers, with the halfway point \n",
    "being around the layer 12-13 boundary (50% of trainable parameters are in layer\n",
    "12 and below)."
   ]
  },
  {
   "cell_type": "code",
   "execution_count": 72,
   "metadata": {},
   "outputs": [
    {
     "data": {
      "image/png": "[encoded data removed]",
      "text/plain": [
       "<Figure size 432x288 with 1 Axes>"
      ]
     },
     "metadata": {
      "needs_background": "light"
     },
     "output_type": "display_data"
    },
    {
     "data": {
      "image/png": "[encoded data removed]",
      "text/plain": [
       "<Figure size 432x288 with 1 Axes>"
      ]
     },
     "metadata": {
      "needs_background": "light"
     },
     "output_type": "display_data"
    }
   ],
   "source": [
    "# We still want to be within the above cell's temp_graph scope to save \n",
    "# creating another one. However, when I try to do this, block_counts() \n",
    "# returns only zeros.\n",
    "with tf.Graph().as_default():\n",
    "    create_efficientnetb0()\n",
    "    # Per-block bar chart.\n",
    "    y_pos = np.arange(efficientnet_num_layers)\n",
    "    per_block_params = block_counts()\n",
    "    plt.bar(y_pos, per_block_params)\n",
    "    plt.title('Trainable elements in each EfficientNet layer')\n",
    "    plt.xlabel('Layer #')\n",
    "    plt.ylabel('Number of trainable elements')\n",
    "    plt.grid(True) # How to place grids behind bars?\n",
    "    plt.show()\n",
    "    \n",
    "    # Cumulative bar chart.\n",
    "    # There is probably pyplot inbuild support for cumulative.\n",
    "    cumulative = per_block_params[:]\n",
    "    for i in range(1, len(cumulative)):\n",
    "        cumulative[i] += cumulative[i-1]\n",
    "    for i in range(len(cumulative)):\n",
    "        cumulative[i] = 100 * (cumulative[i] / cumulative[-1])\n",
    "    plt.bar(y_pos, cumulative)\n",
    "    plt.title('% of elements present in the a layer and all layers below '\n",
    "              '(i.e. cumulative %)')\n",
    "    plt.xlabel('Layer #')\n",
    "    plt.ylabel('% of trainable elements in layer and below')\n",
    "    plt.grid(True) # How to place grids behind bars?\n",
    "    plt.show()"
   ]
  },
  {
   "cell_type": "markdown",
   "metadata": {},
   "source": [
    "Test 1\n",
    "------\n",
    "Choose a class ('king penguin', 145).\n",
    "Can we make a very small network attached to an early layer to detect a king\n",
    "penguin with a low false-positive rate, say 95%?\n",
    "\n",
    "Version 1\n",
    "Arbitrarily testing the 6th layer. The first few layers might be too low in\n",
    "abstraction to be useful. Attach a low-pass/pooling layer reducing each feature\n",
    "layer to a single 1D value. Add a fully connected layer (single neuron). The\n",
    "neuron output is sigmoid. Let's use a standard cross-entropy loss to begin with,\n",
    "although a loss that penalizes false-positives heavily would be better, I \n",
    "imagine. Goal is to see what type of accuracy we can get. "
   ]
  }
 ],
 "metadata": {
  "kernelspec": {
   "display_name": "Python 3",
   "language": "python",
   "name": "python3"
  },
  "language_info": {
   "codemirror_mode": {
    "name": "ipython",
    "version": 3
   },
   "file_extension": ".py",
   "mimetype": "text/x-python",
   "name": "python",
   "nbconvert_exporter": "python",
   "pygments_lexer": "ipython3",
   "version": "3.7.4"
  },
  "pycharm": {
   "stem_cell": {
    "cell_type": "raw",
    "source": [],
    "metadata": {
     "collapsed": false
    }
   }
  }
 },
 "nbformat": 4,
 "nbformat_minor": 4
}