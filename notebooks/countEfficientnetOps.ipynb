{
 "cells": [
  {
   "cell_type": "markdown",
   "metadata": {},
   "source": [
    "# Counting Operations of Efficientnet-b0\n",
    "How many operations are carried out by the network, broken down by layer."
   ]
  },
  {
   "cell_type": "code",
   "execution_count": 1,
   "metadata": {},
   "outputs": [],
   "source": [
    "%%capture\n",
    "import tensorflow as tf\n",
    "import pprint\n",
    "import matplotlib.pyplot as plt\n",
    "import numpy as np\n",
    "import efficientnet.efficientnet_builder as net_builder\n",
    "import util\n",
    "\n",
    "# tf.logging.set_verbosity(tf.logging.WARN)\n",
    "tf.logging.set_verbosity(tf.logging.ERROR)\n",
    "# Set locale for printing (e.g. where to place integer separator ','s).\n",
    "import locale\n",
    "locale.setlocale(locale.LC_ALL, '')  # Use '' for auto, or force e.g. to 'en_US.UTF-8'"
   ]
  },
  {
   "cell_type": "markdown",
   "metadata": {},
   "source": [
    "## Calculation using Tensorflow profiler "
   ]
  },
  {
   "cell_type": "code",
   "execution_count": 2,
   "metadata": {},
   "outputs": [],
   "source": [
    "# https://medium.com/@shinseung428/freezing-and-calculating-flops-in-tensorflow-9df5176bb7ee\n",
    "with tf.Session() as sess, tf.Graph().as_default() as g:\n",
    "    image_inputs = tf.keras.layers.Input(shape=( 112, 112, 3), batch_size=1, dtype=tf.float32)\n",
    "    logits, _ = net_builder.build_model(image_inputs,  model_name='efficientnet-b0',  training=False)\n",
    "    probs = tf.nn.softmax(logits)\n",
    "    # run_meta = tf.RunMetadata()\n",
    "    config_dict = tf.profiler.ProfileOptionBuilder(tf.profiler.ProfileOptionBuilder.float_operation())\n",
    "    #ops = config_dict.with_node_names(hide_name_regexes=['.*/Initializer/.*', '.*/tpu_batch_normalization.*']) \\\n",
    "    ops = config_dict.account_displayed_op_only(True).build()\n",
    "    ans = tf.profiler.profile(g,  options=ops, cmd='op')\n",
    "    # print(ans)"
   ]
  },
  {
   "cell_type": "code",
   "execution_count": 3,
   "metadata": {},
   "outputs": [
    {
     "name": "stdout",
     "output_type": "stream",
     "text": [
      "230,379,149\n"
     ]
    },
    {
     "data": {
      "image/png": "[encoded data removed]",
      "text/plain": [
       "<Figure size 432x288 with 1 Axes>"
      ]
     },
     "metadata": {
      "needs_background": "light"
     },
     "output_type": "display_data"
    }
   ],
   "source": [
    "# dir(ans)\n",
    "import re\n",
    "print(f'{ans.total_float_ops:n}')\n",
    "\n",
    "nodes_to_ops = {}\n",
    "blocks_to_ops = {}\n",
    "for n in ans.children[0].graph_nodes:\n",
    "    prefix = 'efficientnet-b0/model/'\n",
    "    name = n.name[len(prefix):]\n",
    "    nodes_to_ops[name] = n.float_ops\n",
    "    block = name.split('/')[0]\n",
    "    blocks_to_ops[block] = blocks_to_ops.get(block, 0) + n.float_ops\n",
    "        \n",
    "def natural_key(string_):\n",
    "    return [int(s) if s.isdigit() else s for s in re.split(r'(\\d+)', string_)]\n",
    "\n",
    "sorted_block_counts = sorted([(k,v) for k,v in blocks_to_ops.items()], \n",
    "                             key=lambda x: natural_key(x[0]))\n",
    "plt.bar(range(len(sorted_block_counts)), [i[1] for i in sorted_block_counts], align='center')\n",
    "plt.xticks(range(len(blocks_to_ops)), [i[0] for i in sorted_block_counts], rotation='vertical')\n",
    "plt.show()\n",
    "        \n",
    "        "
   ]
  },
  {
   "cell_type": "code",
   "execution_count": 4,
   "metadata": {},
   "outputs": [],
   "source": [
    "import micronet.models.mobilenetv2 as mobilenet\n",
    "run_metadata = tf.RunMetadata()\n",
    "with tf.Session() as sess, tf.Graph().as_default() as g:\n",
    "    image_inputs = tf.keras.layers.Input(shape=(224,224,3), batch_size=1)\n",
    "    m = mobilenet.create_model(input_shape=(224, 224, 3))\n",
    "    m(image_inputs, training=False)\n",
    "    config_dict = tf.profiler.ProfileOptionBuilder(tf.profiler.ProfileOptionBuilder.float_operation())\n",
    "    ops = config_dict.account_displayed_op_only(True)\\\n",
    "                     .select(['float_ops', 'op_types']).order_by('name').build()\n",
    "    ans = tf.profiler.profile(g,  options=ops, cmd='op', run_meta=run_metadata)    "
   ]
  },
  {
   "cell_type": "code",
   "execution_count": 5,
   "metadata": {},
   "outputs": [
    {
     "name": "stdout",
     "output_type": "stream",
     "text": [
      "608,625,165\n"
     ]
    }
   ],
   "source": [
    "print(f'{ans.total_float_ops:n}')\n",
    "# ans"
   ]
  },
  {
   "cell_type": "code",
   "execution_count": null,
   "metadata": {},
   "outputs": [],
   "source": []
  }
 ],
 "metadata": {
  "kernelspec": {
   "display_name": "Python 3",
   "language": "python",
   "name": "python3"
  },
  "language_info": {
   "codemirror_mode": {
    "name": "ipython",
    "version": 3
   },
   "file_extension": ".py",
   "mimetype": "text/x-python",
   "name": "python",
   "nbconvert_exporter": "python",
   "pygments_lexer": "ipython3",
   "version": "3.7.4"
  }
 },
 "nbformat": 4,
 "nbformat_minor": 4
}
