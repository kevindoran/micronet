{
 "cells": [
  {
   "cell_type": "code",
   "execution_count": 41,
   "metadata": {},
   "outputs": [],
   "source": [
    "import numpy as np\n",
    "import tensorflow as tf\n",
    "\n",
    "event_path = 'gs://micronet_bucket1/models/experiments/2/1/1/eval/events.out.tfevents.1566892828.kdoran1'\n",
    "\n",
    "mask_to_accuracy = [0]*49\n",
    "values = []\n",
    "for event in tf.train.summary_iterator(event_path):\n",
    "    summary = event.summary\n",
    "    if not summary.ListFields():\n",
    "        continue\n",
    "    container = event.summary.value\n",
    "    for val in container:\n",
    "        prefix = 'mask_accuracy_'\n",
    "        if val.tag.startswith('mask_accuracy'):\n",
    "            pixel_count = int(val.tag[len(prefix):])\n",
    "            # mask_to_accuracy[pixel_count] = val.simple_value\n",
    "            mask_to_accuracy[pixel_count] = val.simple_value"
   ]
  },
  {
   "cell_type": "code",
   "execution_count": 42,
   "metadata": {},
   "outputs": [
    {
     "data": {
      "text/plain": [
       "[0.7626953125,\n",
       " 0.760986328125,\n",
       " 0.76318359375,\n",
       " 0.762451171875,\n",
       " 0.76123046875,\n",
       " 0.760498046875,\n",
       " 0.7607421875,\n",
       " 0.763427734375,\n",
       " 0.7626953125,\n",
       " 0.761962890625,\n",
       " 0.76220703125,\n",
       " 0.76123046875,\n",
       " 0.76171875,\n",
       " 0.762451171875,\n",
       " 0.76318359375,\n",
       " 0.762939453125,\n",
       " 0.761962890625,\n",
       " 0.761962890625,\n",
       " 0.762451171875,\n",
       " 0.76171875,\n",
       " 0.7626953125,\n",
       " 0.76171875,\n",
       " 0.762451171875,\n",
       " 0.76171875,\n",
       " 0.762451171875,\n",
       " 0.762939453125,\n",
       " 0.76318359375,\n",
       " 0.7626953125,\n",
       " 0.762939453125,\n",
       " 0.762451171875,\n",
       " 0.76220703125,\n",
       " 0.761962890625,\n",
       " 0.763671875,\n",
       " 0.76318359375,\n",
       " 0.7626953125,\n",
       " 0.76513671875,\n",
       " 0.7646484375,\n",
       " 0.764404296875,\n",
       " 0.7646484375,\n",
       " 0.764404296875,\n",
       " 0.763427734375,\n",
       " 0.763916015625,\n",
       " 0.7646484375,\n",
       " 0.76416015625,\n",
       " 0.7646484375,\n",
       " 0.764404296875,\n",
       " 0.763671875,\n",
       " 0.762939453125,\n",
       " 0.763427734375]"
      ]
     },
     "execution_count": 42,
     "metadata": {},
     "output_type": "execute_result"
    }
   ],
   "source": []
  },
  {
   "cell_type": "code",
   "execution_count": null,
   "metadata": {},
   "outputs": [],
   "source": []
  }
 ],
 "metadata": {
  "kernelspec": {
   "display_name": "Python 3",
   "language": "python",
   "name": "python3"
  },
  "language_info": {
   "codemirror_mode": {
    "name": "ipython",
    "version": 3
   },
   "file_extension": ".py",
   "mimetype": "text/x-python",
   "name": "python",
   "nbconvert_exporter": "python",
   "pygments_lexer": "ipython3",
   "version": "3.7.4"
  }
 },
 "nbformat": 4,
 "nbformat_minor": 4
}
